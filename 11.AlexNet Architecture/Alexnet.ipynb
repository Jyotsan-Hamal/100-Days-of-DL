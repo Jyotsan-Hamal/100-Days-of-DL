{
 "cells": [
  {
   "cell_type": "code",
   "execution_count": 2,
   "id": "7c1abd99",
   "metadata": {},
   "outputs": [],
   "source": [
    "import tensorflow as tf\n",
    "from tensorflow import keras\n",
    "from keras.layers import Dense,MaxPooling2D,Flatten,Dropout,Conv2D\n",
    "from keras.models import Sequential"
   ]
  },
  {
   "cell_type": "code",
   "execution_count": 25,
   "id": "175379e4",
   "metadata": {},
   "outputs": [],
   "source": [
    "alexnet = Sequential()\n",
    "#first Convolution Layer\n",
    "alexnet.add(Conv2D(96,(11,11),strides=(4,4),padding='valid',activation='relu',input_shape=(227,227,3)))\n",
    "#first Maxpool Layer\n",
    "alexnet.add(MaxPooling2D(pool_size=(3,3),strides=(2,2)))\n",
    "\n",
    "#Second Convolution Layer\n",
    "alexnet.add(Conv2D(256,(5,5),strides=(1,1),padding='same',activation='relu'))\n",
    "#Second Maxpool Layer\n",
    "alexnet.add(MaxPooling2D(pool_size=(3,3),strides=(2,2)))\n",
    "\n",
    "#third Convolution Layer\n",
    "alexnet.add(Conv2D(384,(3,3),strides=(1,1),padding='same',activation='relu'))\n",
    "#fourth Convolution Layer\n",
    "alexnet.add(Conv2D(384,(3,3),strides=(1,1),padding='same',activation='relu'))\n",
    "#fifth Convolution Layer\n",
    "alexnet.add(Conv2D(256,(3,3),strides=(1,1),padding='same',activation='relu'))\n",
    "#last Maxpool Layer\n",
    "alexnet.add(MaxPooling2D(pool_size=(3,3),strides=(2,2)))\n",
    "alexnet.add(Flatten())\n",
    "\n",
    "#Dense Layer\n",
    "alexnet.add(Dense(4096,activation='relu'))\n",
    "alexnet.add(Dropout(0.5))\n",
    "\n",
    "alexnet.add(Dense(4096,activation='relu'))\n",
    "alexnet.add(Dropout(0.5))\n",
    "\n",
    "alexnet.add(Dense(1000,activation='softmax'))"
   ]
  },
  {
   "cell_type": "code",
   "execution_count": 23,
   "id": "ef627938",
   "metadata": {},
   "outputs": [
    {
     "name": "stdout",
     "output_type": "stream",
     "text": [
      "Model: \"sequential_12\"\n",
      "_________________________________________________________________\n",
      " Layer (type)                Output Shape              Param #   \n",
      "=================================================================\n",
      " conv2d_23 (Conv2D)          (None, 55, 55, 96)        34944     \n",
      "                                                                 \n",
      " max_pooling2d_13 (MaxPoolin  (None, 27, 27, 96)       0         \n",
      " g2D)                                                            \n",
      "                                                                 \n",
      " conv2d_24 (Conv2D)          (None, 27, 27, 256)       614656    \n",
      "                                                                 \n",
      " max_pooling2d_14 (MaxPoolin  (None, 13, 13, 256)      0         \n",
      " g2D)                                                            \n",
      "                                                                 \n",
      " conv2d_25 (Conv2D)          (None, 13, 13, 384)       885120    \n",
      "                                                                 \n",
      " conv2d_26 (Conv2D)          (None, 13, 13, 384)       1327488   \n",
      "                                                                 \n",
      " conv2d_27 (Conv2D)          (None, 13, 13, 256)       884992    \n",
      "                                                                 \n",
      " max_pooling2d_15 (MaxPoolin  (None, 6, 6, 256)        0         \n",
      " g2D)                                                            \n",
      "                                                                 \n",
      " flatten_1 (Flatten)         (None, 9216)              0         \n",
      "                                                                 \n",
      " dense (Dense)               (None, 4096)              37752832  \n",
      "                                                                 \n",
      " dense_1 (Dense)             (None, 4096)              16781312  \n",
      "                                                                 \n",
      " dense_2 (Dense)             (None, 1000)              4097000   \n",
      "                                                                 \n",
      "=================================================================\n",
      "Total params: 62,378,344\n",
      "Trainable params: 62,378,344\n",
      "Non-trainable params: 0\n",
      "_________________________________________________________________\n"
     ]
    }
   ],
   "source": [
    "alexnet.summary()"
   ]
  },
  {
   "cell_type": "code",
   "execution_count": null,
   "id": "44fd7409",
   "metadata": {},
   "outputs": [],
   "source": []
  }
 ],
 "metadata": {
  "kernelspec": {
   "display_name": "Python 3 (ipykernel)",
   "language": "python",
   "name": "python3"
  },
  "language_info": {
   "codemirror_mode": {
    "name": "ipython",
    "version": 3
   },
   "file_extension": ".py",
   "mimetype": "text/x-python",
   "name": "python",
   "nbconvert_exporter": "python",
   "pygments_lexer": "ipython3",
   "version": "3.9.13"
  }
 },
 "nbformat": 4,
 "nbformat_minor": 5
}
