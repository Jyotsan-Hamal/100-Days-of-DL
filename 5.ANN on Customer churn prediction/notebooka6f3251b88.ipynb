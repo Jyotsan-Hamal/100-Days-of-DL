{
 "cells": [
  {
   "cell_type": "code",
   "execution_count": 1,
   "id": "1d6c4e5d",
   "metadata": {
    "_cell_guid": "b1076dfc-b9ad-4769-8c92-a6c4dae69d19",
    "_uuid": "8f2839f25d086af736a60e9eeb907d3b93b6e0e5",
    "execution": {
     "iopub.execute_input": "2023-05-28T16:09:02.976601Z",
     "iopub.status.busy": "2023-05-28T16:09:02.976179Z",
     "iopub.status.idle": "2023-05-28T16:09:02.996461Z",
     "shell.execute_reply": "2023-05-28T16:09:02.995125Z"
    },
    "papermill": {
     "duration": 0.032472,
     "end_time": "2023-05-28T16:09:02.998888",
     "exception": false,
     "start_time": "2023-05-28T16:09:02.966416",
     "status": "completed"
    },
    "tags": []
   },
   "outputs": [
    {
     "name": "stdout",
     "output_type": "stream",
     "text": [
      "/kaggle/input/predicting-churn-for-bank-customers/Churn_Modelling.csv\n"
     ]
    }
   ],
   "source": [
    "# This Python 3 environment comes with many helpful analytics libraries installed\n",
    "# It is defined by the kaggle/python Docker image: https://github.com/kaggle/docker-python\n",
    "# For example, here's several helpful packages to load\n",
    "\n",
    "import numpy as np # linear algebra\n",
    "import pandas as pd # data processing, CSV file I/O (e.g. pd.read_csv)\n",
    "\n",
    "# Input data files are available in the read-only \"../input/\" directory\n",
    "# For example, running this (by clicking run or pressing Shift+Enter) will list all files under the input directory\n",
    "\n",
    "import os\n",
    "for dirname, _, filenames in os.walk('/kaggle/input'):\n",
    "    for filename in filenames:\n",
    "        print(os.path.join(dirname, filename))\n",
    "\n",
    "# You can write up to 20GB to the current directory (/kaggle/working/) that gets preserved as output when you create a version using \"Save & Run All\" \n",
    "# You can also write temporary files to /kaggle/temp/, but they won't be saved outside of the current session"
   ]
  },
  {
   "cell_type": "code",
   "execution_count": 2,
   "id": "27e32a05",
   "metadata": {
    "execution": {
     "iopub.execute_input": "2023-05-28T16:09:03.012904Z",
     "iopub.status.busy": "2023-05-28T16:09:03.012609Z",
     "iopub.status.idle": "2023-05-28T16:09:03.057571Z",
     "shell.execute_reply": "2023-05-28T16:09:03.055919Z"
    },
    "papermill": {
     "duration": 0.054392,
     "end_time": "2023-05-28T16:09:03.059866",
     "exception": false,
     "start_time": "2023-05-28T16:09:03.005474",
     "status": "completed"
    },
    "tags": []
   },
   "outputs": [],
   "source": [
    "df = pd.read_csv(\"/kaggle/input/predicting-churn-for-bank-customers/Churn_Modelling.csv\")"
   ]
  },
  {
   "cell_type": "code",
   "execution_count": 3,
   "id": "48c35f26",
   "metadata": {
    "execution": {
     "iopub.execute_input": "2023-05-28T16:09:03.075148Z",
     "iopub.status.busy": "2023-05-28T16:09:03.074560Z",
     "iopub.status.idle": "2023-05-28T16:09:03.128567Z",
     "shell.execute_reply": "2023-05-28T16:09:03.127569Z"
    },
    "papermill": {
     "duration": 0.063687,
     "end_time": "2023-05-28T16:09:03.130340",
     "exception": false,
     "start_time": "2023-05-28T16:09:03.066653",
     "status": "completed"
    },
    "tags": []
   },
   "outputs": [
    {
     "data": {
      "text/html": [
       "<div>\n",
       "<style scoped>\n",
       "    .dataframe tbody tr th:only-of-type {\n",
       "        vertical-align: middle;\n",
       "    }\n",
       "\n",
       "    .dataframe tbody tr th {\n",
       "        vertical-align: top;\n",
       "    }\n",
       "\n",
       "    .dataframe thead th {\n",
       "        text-align: right;\n",
       "    }\n",
       "</style>\n",
       "<table border=\"1\" class=\"dataframe\">\n",
       "  <thead>\n",
       "    <tr style=\"text-align: right;\">\n",
       "      <th></th>\n",
       "      <th>RowNumber</th>\n",
       "      <th>CustomerId</th>\n",
       "      <th>Surname</th>\n",
       "      <th>CreditScore</th>\n",
       "      <th>Geography</th>\n",
       "      <th>Gender</th>\n",
       "      <th>Age</th>\n",
       "      <th>Tenure</th>\n",
       "      <th>Balance</th>\n",
       "      <th>NumOfProducts</th>\n",
       "      <th>HasCrCard</th>\n",
       "      <th>IsActiveMember</th>\n",
       "      <th>EstimatedSalary</th>\n",
       "      <th>Exited</th>\n",
       "    </tr>\n",
       "  </thead>\n",
       "  <tbody>\n",
       "    <tr>\n",
       "      <th>0</th>\n",
       "      <td>1</td>\n",
       "      <td>15634602</td>\n",
       "      <td>Hargrave</td>\n",
       "      <td>619</td>\n",
       "      <td>France</td>\n",
       "      <td>Female</td>\n",
       "      <td>42</td>\n",
       "      <td>2</td>\n",
       "      <td>0.00</td>\n",
       "      <td>1</td>\n",
       "      <td>1</td>\n",
       "      <td>1</td>\n",
       "      <td>101348.88</td>\n",
       "      <td>1</td>\n",
       "    </tr>\n",
       "    <tr>\n",
       "      <th>1</th>\n",
       "      <td>2</td>\n",
       "      <td>15647311</td>\n",
       "      <td>Hill</td>\n",
       "      <td>608</td>\n",
       "      <td>Spain</td>\n",
       "      <td>Female</td>\n",
       "      <td>41</td>\n",
       "      <td>1</td>\n",
       "      <td>83807.86</td>\n",
       "      <td>1</td>\n",
       "      <td>0</td>\n",
       "      <td>1</td>\n",
       "      <td>112542.58</td>\n",
       "      <td>0</td>\n",
       "    </tr>\n",
       "    <tr>\n",
       "      <th>2</th>\n",
       "      <td>3</td>\n",
       "      <td>15619304</td>\n",
       "      <td>Onio</td>\n",
       "      <td>502</td>\n",
       "      <td>France</td>\n",
       "      <td>Female</td>\n",
       "      <td>42</td>\n",
       "      <td>8</td>\n",
       "      <td>159660.80</td>\n",
       "      <td>3</td>\n",
       "      <td>1</td>\n",
       "      <td>0</td>\n",
       "      <td>113931.57</td>\n",
       "      <td>1</td>\n",
       "    </tr>\n",
       "    <tr>\n",
       "      <th>3</th>\n",
       "      <td>4</td>\n",
       "      <td>15701354</td>\n",
       "      <td>Boni</td>\n",
       "      <td>699</td>\n",
       "      <td>France</td>\n",
       "      <td>Female</td>\n",
       "      <td>39</td>\n",
       "      <td>1</td>\n",
       "      <td>0.00</td>\n",
       "      <td>2</td>\n",
       "      <td>0</td>\n",
       "      <td>0</td>\n",
       "      <td>93826.63</td>\n",
       "      <td>0</td>\n",
       "    </tr>\n",
       "    <tr>\n",
       "      <th>4</th>\n",
       "      <td>5</td>\n",
       "      <td>15737888</td>\n",
       "      <td>Mitchell</td>\n",
       "      <td>850</td>\n",
       "      <td>Spain</td>\n",
       "      <td>Female</td>\n",
       "      <td>43</td>\n",
       "      <td>2</td>\n",
       "      <td>125510.82</td>\n",
       "      <td>1</td>\n",
       "      <td>1</td>\n",
       "      <td>1</td>\n",
       "      <td>79084.10</td>\n",
       "      <td>0</td>\n",
       "    </tr>\n",
       "    <tr>\n",
       "      <th>...</th>\n",
       "      <td>...</td>\n",
       "      <td>...</td>\n",
       "      <td>...</td>\n",
       "      <td>...</td>\n",
       "      <td>...</td>\n",
       "      <td>...</td>\n",
       "      <td>...</td>\n",
       "      <td>...</td>\n",
       "      <td>...</td>\n",
       "      <td>...</td>\n",
       "      <td>...</td>\n",
       "      <td>...</td>\n",
       "      <td>...</td>\n",
       "      <td>...</td>\n",
       "    </tr>\n",
       "    <tr>\n",
       "      <th>9995</th>\n",
       "      <td>9996</td>\n",
       "      <td>15606229</td>\n",
       "      <td>Obijiaku</td>\n",
       "      <td>771</td>\n",
       "      <td>France</td>\n",
       "      <td>Male</td>\n",
       "      <td>39</td>\n",
       "      <td>5</td>\n",
       "      <td>0.00</td>\n",
       "      <td>2</td>\n",
       "      <td>1</td>\n",
       "      <td>0</td>\n",
       "      <td>96270.64</td>\n",
       "      <td>0</td>\n",
       "    </tr>\n",
       "    <tr>\n",
       "      <th>9996</th>\n",
       "      <td>9997</td>\n",
       "      <td>15569892</td>\n",
       "      <td>Johnstone</td>\n",
       "      <td>516</td>\n",
       "      <td>France</td>\n",
       "      <td>Male</td>\n",
       "      <td>35</td>\n",
       "      <td>10</td>\n",
       "      <td>57369.61</td>\n",
       "      <td>1</td>\n",
       "      <td>1</td>\n",
       "      <td>1</td>\n",
       "      <td>101699.77</td>\n",
       "      <td>0</td>\n",
       "    </tr>\n",
       "    <tr>\n",
       "      <th>9997</th>\n",
       "      <td>9998</td>\n",
       "      <td>15584532</td>\n",
       "      <td>Liu</td>\n",
       "      <td>709</td>\n",
       "      <td>France</td>\n",
       "      <td>Female</td>\n",
       "      <td>36</td>\n",
       "      <td>7</td>\n",
       "      <td>0.00</td>\n",
       "      <td>1</td>\n",
       "      <td>0</td>\n",
       "      <td>1</td>\n",
       "      <td>42085.58</td>\n",
       "      <td>1</td>\n",
       "    </tr>\n",
       "    <tr>\n",
       "      <th>9998</th>\n",
       "      <td>9999</td>\n",
       "      <td>15682355</td>\n",
       "      <td>Sabbatini</td>\n",
       "      <td>772</td>\n",
       "      <td>Germany</td>\n",
       "      <td>Male</td>\n",
       "      <td>42</td>\n",
       "      <td>3</td>\n",
       "      <td>75075.31</td>\n",
       "      <td>2</td>\n",
       "      <td>1</td>\n",
       "      <td>0</td>\n",
       "      <td>92888.52</td>\n",
       "      <td>1</td>\n",
       "    </tr>\n",
       "    <tr>\n",
       "      <th>9999</th>\n",
       "      <td>10000</td>\n",
       "      <td>15628319</td>\n",
       "      <td>Walker</td>\n",
       "      <td>792</td>\n",
       "      <td>France</td>\n",
       "      <td>Female</td>\n",
       "      <td>28</td>\n",
       "      <td>4</td>\n",
       "      <td>130142.79</td>\n",
       "      <td>1</td>\n",
       "      <td>1</td>\n",
       "      <td>0</td>\n",
       "      <td>38190.78</td>\n",
       "      <td>0</td>\n",
       "    </tr>\n",
       "  </tbody>\n",
       "</table>\n",
       "<p>10000 rows × 14 columns</p>\n",
       "</div>"
      ],
      "text/plain": [
       "      RowNumber  CustomerId    Surname  CreditScore Geography  Gender  Age  \\\n",
       "0             1    15634602   Hargrave          619    France  Female   42   \n",
       "1             2    15647311       Hill          608     Spain  Female   41   \n",
       "2             3    15619304       Onio          502    France  Female   42   \n",
       "3             4    15701354       Boni          699    France  Female   39   \n",
       "4             5    15737888   Mitchell          850     Spain  Female   43   \n",
       "...         ...         ...        ...          ...       ...     ...  ...   \n",
       "9995       9996    15606229   Obijiaku          771    France    Male   39   \n",
       "9996       9997    15569892  Johnstone          516    France    Male   35   \n",
       "9997       9998    15584532        Liu          709    France  Female   36   \n",
       "9998       9999    15682355  Sabbatini          772   Germany    Male   42   \n",
       "9999      10000    15628319     Walker          792    France  Female   28   \n",
       "\n",
       "      Tenure    Balance  NumOfProducts  HasCrCard  IsActiveMember  \\\n",
       "0          2       0.00              1          1               1   \n",
       "1          1   83807.86              1          0               1   \n",
       "2          8  159660.80              3          1               0   \n",
       "3          1       0.00              2          0               0   \n",
       "4          2  125510.82              1          1               1   \n",
       "...      ...        ...            ...        ...             ...   \n",
       "9995       5       0.00              2          1               0   \n",
       "9996      10   57369.61              1          1               1   \n",
       "9997       7       0.00              1          0               1   \n",
       "9998       3   75075.31              2          1               0   \n",
       "9999       4  130142.79              1          1               0   \n",
       "\n",
       "      EstimatedSalary  Exited  \n",
       "0           101348.88       1  \n",
       "1           112542.58       0  \n",
       "2           113931.57       1  \n",
       "3            93826.63       0  \n",
       "4            79084.10       0  \n",
       "...               ...     ...  \n",
       "9995         96270.64       0  \n",
       "9996        101699.77       0  \n",
       "9997         42085.58       1  \n",
       "9998         92888.52       1  \n",
       "9999         38190.78       0  \n",
       "\n",
       "[10000 rows x 14 columns]"
      ]
     },
     "execution_count": 3,
     "metadata": {},
     "output_type": "execute_result"
    }
   ],
   "source": [
    "df"
   ]
  },
  {
   "cell_type": "code",
   "execution_count": 4,
   "id": "9a9b949e",
   "metadata": {
    "execution": {
     "iopub.execute_input": "2023-05-28T16:09:03.146663Z",
     "iopub.status.busy": "2023-05-28T16:09:03.145437Z",
     "iopub.status.idle": "2023-05-28T16:09:03.157125Z",
     "shell.execute_reply": "2023-05-28T16:09:03.156092Z"
    },
    "papermill": {
     "duration": 0.0213,
     "end_time": "2023-05-28T16:09:03.159160",
     "exception": false,
     "start_time": "2023-05-28T16:09:03.137860",
     "status": "completed"
    },
    "tags": []
   },
   "outputs": [
    {
     "data": {
      "text/plain": [
       "France     5014\n",
       "Germany    2509\n",
       "Spain      2477\n",
       "Name: Geography, dtype: int64"
      ]
     },
     "execution_count": 4,
     "metadata": {},
     "output_type": "execute_result"
    }
   ],
   "source": [
    "df['Geography'].value_counts()"
   ]
  },
  {
   "cell_type": "code",
   "execution_count": 5,
   "id": "7d28caf2",
   "metadata": {
    "execution": {
     "iopub.execute_input": "2023-05-28T16:09:03.174221Z",
     "iopub.status.busy": "2023-05-28T16:09:03.173627Z",
     "iopub.status.idle": "2023-05-28T16:09:03.199189Z",
     "shell.execute_reply": "2023-05-28T16:09:03.198230Z"
    },
    "papermill": {
     "duration": 0.035144,
     "end_time": "2023-05-28T16:09:03.201117",
     "exception": false,
     "start_time": "2023-05-28T16:09:03.165973",
     "status": "completed"
    },
    "tags": []
   },
   "outputs": [
    {
     "name": "stdout",
     "output_type": "stream",
     "text": [
      "<class 'pandas.core.frame.DataFrame'>\n",
      "RangeIndex: 10000 entries, 0 to 9999\n",
      "Data columns (total 14 columns):\n",
      " #   Column           Non-Null Count  Dtype  \n",
      "---  ------           --------------  -----  \n",
      " 0   RowNumber        10000 non-null  int64  \n",
      " 1   CustomerId       10000 non-null  int64  \n",
      " 2   Surname          10000 non-null  object \n",
      " 3   CreditScore      10000 non-null  int64  \n",
      " 4   Geography        10000 non-null  object \n",
      " 5   Gender           10000 non-null  object \n",
      " 6   Age              10000 non-null  int64  \n",
      " 7   Tenure           10000 non-null  int64  \n",
      " 8   Balance          10000 non-null  float64\n",
      " 9   NumOfProducts    10000 non-null  int64  \n",
      " 10  HasCrCard        10000 non-null  int64  \n",
      " 11  IsActiveMember   10000 non-null  int64  \n",
      " 12  EstimatedSalary  10000 non-null  float64\n",
      " 13  Exited           10000 non-null  int64  \n",
      "dtypes: float64(2), int64(9), object(3)\n",
      "memory usage: 1.1+ MB\n"
     ]
    }
   ],
   "source": [
    "df.info()"
   ]
  },
  {
   "cell_type": "code",
   "execution_count": 6,
   "id": "723467e7",
   "metadata": {
    "execution": {
     "iopub.execute_input": "2023-05-28T16:09:03.216982Z",
     "iopub.status.busy": "2023-05-28T16:09:03.216395Z",
     "iopub.status.idle": "2023-05-28T16:09:03.222496Z",
     "shell.execute_reply": "2023-05-28T16:09:03.221571Z"
    },
    "papermill": {
     "duration": 0.016459,
     "end_time": "2023-05-28T16:09:03.224534",
     "exception": false,
     "start_time": "2023-05-28T16:09:03.208075",
     "status": "completed"
    },
    "tags": []
   },
   "outputs": [],
   "source": [
    "df.drop(columns=['RowNumber','CustomerId','Surname'],inplace=True)"
   ]
  },
  {
   "cell_type": "code",
   "execution_count": 7,
   "id": "c8b6448a",
   "metadata": {
    "execution": {
     "iopub.execute_input": "2023-05-28T16:09:03.240703Z",
     "iopub.status.busy": "2023-05-28T16:09:03.240157Z",
     "iopub.status.idle": "2023-05-28T16:09:03.256358Z",
     "shell.execute_reply": "2023-05-28T16:09:03.255605Z"
    },
    "papermill": {
     "duration": 0.026169,
     "end_time": "2023-05-28T16:09:03.258109",
     "exception": false,
     "start_time": "2023-05-28T16:09:03.231940",
     "status": "completed"
    },
    "tags": []
   },
   "outputs": [
    {
     "data": {
      "text/html": [
       "<div>\n",
       "<style scoped>\n",
       "    .dataframe tbody tr th:only-of-type {\n",
       "        vertical-align: middle;\n",
       "    }\n",
       "\n",
       "    .dataframe tbody tr th {\n",
       "        vertical-align: top;\n",
       "    }\n",
       "\n",
       "    .dataframe thead th {\n",
       "        text-align: right;\n",
       "    }\n",
       "</style>\n",
       "<table border=\"1\" class=\"dataframe\">\n",
       "  <thead>\n",
       "    <tr style=\"text-align: right;\">\n",
       "      <th></th>\n",
       "      <th>CreditScore</th>\n",
       "      <th>Geography</th>\n",
       "      <th>Gender</th>\n",
       "      <th>Age</th>\n",
       "      <th>Tenure</th>\n",
       "      <th>Balance</th>\n",
       "      <th>NumOfProducts</th>\n",
       "      <th>HasCrCard</th>\n",
       "      <th>IsActiveMember</th>\n",
       "      <th>EstimatedSalary</th>\n",
       "      <th>Exited</th>\n",
       "    </tr>\n",
       "  </thead>\n",
       "  <tbody>\n",
       "    <tr>\n",
       "      <th>0</th>\n",
       "      <td>619</td>\n",
       "      <td>France</td>\n",
       "      <td>Female</td>\n",
       "      <td>42</td>\n",
       "      <td>2</td>\n",
       "      <td>0.00</td>\n",
       "      <td>1</td>\n",
       "      <td>1</td>\n",
       "      <td>1</td>\n",
       "      <td>101348.88</td>\n",
       "      <td>1</td>\n",
       "    </tr>\n",
       "    <tr>\n",
       "      <th>1</th>\n",
       "      <td>608</td>\n",
       "      <td>Spain</td>\n",
       "      <td>Female</td>\n",
       "      <td>41</td>\n",
       "      <td>1</td>\n",
       "      <td>83807.86</td>\n",
       "      <td>1</td>\n",
       "      <td>0</td>\n",
       "      <td>1</td>\n",
       "      <td>112542.58</td>\n",
       "      <td>0</td>\n",
       "    </tr>\n",
       "    <tr>\n",
       "      <th>2</th>\n",
       "      <td>502</td>\n",
       "      <td>France</td>\n",
       "      <td>Female</td>\n",
       "      <td>42</td>\n",
       "      <td>8</td>\n",
       "      <td>159660.80</td>\n",
       "      <td>3</td>\n",
       "      <td>1</td>\n",
       "      <td>0</td>\n",
       "      <td>113931.57</td>\n",
       "      <td>1</td>\n",
       "    </tr>\n",
       "    <tr>\n",
       "      <th>3</th>\n",
       "      <td>699</td>\n",
       "      <td>France</td>\n",
       "      <td>Female</td>\n",
       "      <td>39</td>\n",
       "      <td>1</td>\n",
       "      <td>0.00</td>\n",
       "      <td>2</td>\n",
       "      <td>0</td>\n",
       "      <td>0</td>\n",
       "      <td>93826.63</td>\n",
       "      <td>0</td>\n",
       "    </tr>\n",
       "    <tr>\n",
       "      <th>4</th>\n",
       "      <td>850</td>\n",
       "      <td>Spain</td>\n",
       "      <td>Female</td>\n",
       "      <td>43</td>\n",
       "      <td>2</td>\n",
       "      <td>125510.82</td>\n",
       "      <td>1</td>\n",
       "      <td>1</td>\n",
       "      <td>1</td>\n",
       "      <td>79084.10</td>\n",
       "      <td>0</td>\n",
       "    </tr>\n",
       "    <tr>\n",
       "      <th>...</th>\n",
       "      <td>...</td>\n",
       "      <td>...</td>\n",
       "      <td>...</td>\n",
       "      <td>...</td>\n",
       "      <td>...</td>\n",
       "      <td>...</td>\n",
       "      <td>...</td>\n",
       "      <td>...</td>\n",
       "      <td>...</td>\n",
       "      <td>...</td>\n",
       "      <td>...</td>\n",
       "    </tr>\n",
       "    <tr>\n",
       "      <th>9995</th>\n",
       "      <td>771</td>\n",
       "      <td>France</td>\n",
       "      <td>Male</td>\n",
       "      <td>39</td>\n",
       "      <td>5</td>\n",
       "      <td>0.00</td>\n",
       "      <td>2</td>\n",
       "      <td>1</td>\n",
       "      <td>0</td>\n",
       "      <td>96270.64</td>\n",
       "      <td>0</td>\n",
       "    </tr>\n",
       "    <tr>\n",
       "      <th>9996</th>\n",
       "      <td>516</td>\n",
       "      <td>France</td>\n",
       "      <td>Male</td>\n",
       "      <td>35</td>\n",
       "      <td>10</td>\n",
       "      <td>57369.61</td>\n",
       "      <td>1</td>\n",
       "      <td>1</td>\n",
       "      <td>1</td>\n",
       "      <td>101699.77</td>\n",
       "      <td>0</td>\n",
       "    </tr>\n",
       "    <tr>\n",
       "      <th>9997</th>\n",
       "      <td>709</td>\n",
       "      <td>France</td>\n",
       "      <td>Female</td>\n",
       "      <td>36</td>\n",
       "      <td>7</td>\n",
       "      <td>0.00</td>\n",
       "      <td>1</td>\n",
       "      <td>0</td>\n",
       "      <td>1</td>\n",
       "      <td>42085.58</td>\n",
       "      <td>1</td>\n",
       "    </tr>\n",
       "    <tr>\n",
       "      <th>9998</th>\n",
       "      <td>772</td>\n",
       "      <td>Germany</td>\n",
       "      <td>Male</td>\n",
       "      <td>42</td>\n",
       "      <td>3</td>\n",
       "      <td>75075.31</td>\n",
       "      <td>2</td>\n",
       "      <td>1</td>\n",
       "      <td>0</td>\n",
       "      <td>92888.52</td>\n",
       "      <td>1</td>\n",
       "    </tr>\n",
       "    <tr>\n",
       "      <th>9999</th>\n",
       "      <td>792</td>\n",
       "      <td>France</td>\n",
       "      <td>Female</td>\n",
       "      <td>28</td>\n",
       "      <td>4</td>\n",
       "      <td>130142.79</td>\n",
       "      <td>1</td>\n",
       "      <td>1</td>\n",
       "      <td>0</td>\n",
       "      <td>38190.78</td>\n",
       "      <td>0</td>\n",
       "    </tr>\n",
       "  </tbody>\n",
       "</table>\n",
       "<p>10000 rows × 11 columns</p>\n",
       "</div>"
      ],
      "text/plain": [
       "      CreditScore Geography  Gender  Age  Tenure    Balance  NumOfProducts  \\\n",
       "0             619    France  Female   42       2       0.00              1   \n",
       "1             608     Spain  Female   41       1   83807.86              1   \n",
       "2             502    France  Female   42       8  159660.80              3   \n",
       "3             699    France  Female   39       1       0.00              2   \n",
       "4             850     Spain  Female   43       2  125510.82              1   \n",
       "...           ...       ...     ...  ...     ...        ...            ...   \n",
       "9995          771    France    Male   39       5       0.00              2   \n",
       "9996          516    France    Male   35      10   57369.61              1   \n",
       "9997          709    France  Female   36       7       0.00              1   \n",
       "9998          772   Germany    Male   42       3   75075.31              2   \n",
       "9999          792    France  Female   28       4  130142.79              1   \n",
       "\n",
       "      HasCrCard  IsActiveMember  EstimatedSalary  Exited  \n",
       "0             1               1        101348.88       1  \n",
       "1             0               1        112542.58       0  \n",
       "2             1               0        113931.57       1  \n",
       "3             0               0         93826.63       0  \n",
       "4             1               1         79084.10       0  \n",
       "...         ...             ...              ...     ...  \n",
       "9995          1               0         96270.64       0  \n",
       "9996          1               1        101699.77       0  \n",
       "9997          0               1         42085.58       1  \n",
       "9998          1               0         92888.52       1  \n",
       "9999          1               0         38190.78       0  \n",
       "\n",
       "[10000 rows x 11 columns]"
      ]
     },
     "execution_count": 7,
     "metadata": {},
     "output_type": "execute_result"
    }
   ],
   "source": [
    "df"
   ]
  },
  {
   "cell_type": "code",
   "execution_count": 8,
   "id": "79d0a10e",
   "metadata": {
    "execution": {
     "iopub.execute_input": "2023-05-28T16:09:03.276741Z",
     "iopub.status.busy": "2023-05-28T16:09:03.275963Z",
     "iopub.status.idle": "2023-05-28T16:09:03.290100Z",
     "shell.execute_reply": "2023-05-28T16:09:03.289150Z"
    },
    "papermill": {
     "duration": 0.027375,
     "end_time": "2023-05-28T16:09:03.292657",
     "exception": false,
     "start_time": "2023-05-28T16:09:03.265282",
     "status": "completed"
    },
    "tags": []
   },
   "outputs": [],
   "source": [
    "df = pd.get_dummies(df,columns=['Geography','Gender'],drop_first=True)"
   ]
  },
  {
   "cell_type": "code",
   "execution_count": 9,
   "id": "8c1587ec",
   "metadata": {
    "execution": {
     "iopub.execute_input": "2023-05-28T16:09:03.310097Z",
     "iopub.status.busy": "2023-05-28T16:09:03.309415Z",
     "iopub.status.idle": "2023-05-28T16:09:04.700537Z",
     "shell.execute_reply": "2023-05-28T16:09:04.699576Z"
    },
    "papermill": {
     "duration": 1.402092,
     "end_time": "2023-05-28T16:09:04.702752",
     "exception": false,
     "start_time": "2023-05-28T16:09:03.300660",
     "status": "completed"
    },
    "tags": []
   },
   "outputs": [],
   "source": [
    "from sklearn.model_selection import train_test_split"
   ]
  },
  {
   "cell_type": "code",
   "execution_count": 10,
   "id": "88712eb4",
   "metadata": {
    "execution": {
     "iopub.execute_input": "2023-05-28T16:09:04.718783Z",
     "iopub.status.busy": "2023-05-28T16:09:04.718443Z",
     "iopub.status.idle": "2023-05-28T16:09:04.729946Z",
     "shell.execute_reply": "2023-05-28T16:09:04.728974Z"
    },
    "papermill": {
     "duration": 0.021933,
     "end_time": "2023-05-28T16:09:04.732324",
     "exception": false,
     "start_time": "2023-05-28T16:09:04.710391",
     "status": "completed"
    },
    "tags": []
   },
   "outputs": [],
   "source": [
    "x_train,x_test,y_train,y_test = train_test_split(df.drop(columns=['Exited']),df['Exited'])"
   ]
  },
  {
   "cell_type": "code",
   "execution_count": 11,
   "id": "64ba0292",
   "metadata": {
    "execution": {
     "iopub.execute_input": "2023-05-28T16:09:04.747904Z",
     "iopub.status.busy": "2023-05-28T16:09:04.747554Z",
     "iopub.status.idle": "2023-05-28T16:09:05.011385Z",
     "shell.execute_reply": "2023-05-28T16:09:05.009911Z"
    },
    "papermill": {
     "duration": 0.273472,
     "end_time": "2023-05-28T16:09:05.012943",
     "exception": true,
     "start_time": "2023-05-28T16:09:04.739471",
     "status": "failed"
    },
    "tags": []
   },
   "outputs": [
    {
     "ename": "NameError",
     "evalue": "name 'x_train_scaled' is not defined",
     "output_type": "error",
     "traceback": [
      "\u001b[0;31m---------------------------------------------------------------------------\u001b[0m",
      "\u001b[0;31mNameError\u001b[0m                                 Traceback (most recent call last)",
      "Cell \u001b[0;32mIn[11], line 1\u001b[0m\n\u001b[0;32m----> 1\u001b[0m \u001b[43mx_train_scaled\u001b[49m\u001b[38;5;241m.\u001b[39mshape\n",
      "\u001b[0;31mNameError\u001b[0m: name 'x_train_scaled' is not defined"
     ]
    }
   ],
   "source": [
    "x_train_scaled.shape"
   ]
  },
  {
   "cell_type": "code",
   "execution_count": null,
   "id": "c056dd10",
   "metadata": {
    "execution": {
     "iopub.execute_input": "2023-05-28T15:36:38.104894Z",
     "iopub.status.busy": "2023-05-28T15:36:38.104461Z",
     "iopub.status.idle": "2023-05-28T15:36:38.112345Z",
     "shell.execute_reply": "2023-05-28T15:36:38.111042Z",
     "shell.execute_reply.started": "2023-05-28T15:36:38.104857Z"
    },
    "papermill": {
     "duration": null,
     "end_time": null,
     "exception": null,
     "start_time": null,
     "status": "pending"
    },
    "tags": []
   },
   "outputs": [],
   "source": [
    "y_test.shape"
   ]
  },
  {
   "cell_type": "code",
   "execution_count": null,
   "id": "2a3d05a1",
   "metadata": {
    "execution": {
     "iopub.execute_input": "2023-05-28T15:36:55.324811Z",
     "iopub.status.busy": "2023-05-28T15:36:55.324411Z",
     "iopub.status.idle": "2023-05-28T15:36:55.330045Z",
     "shell.execute_reply": "2023-05-28T15:36:55.328845Z",
     "shell.execute_reply.started": "2023-05-28T15:36:55.324780Z"
    },
    "papermill": {
     "duration": null,
     "end_time": null,
     "exception": null,
     "start_time": null,
     "status": "pending"
    },
    "tags": []
   },
   "outputs": [],
   "source": [
    "from sklearn.preprocessing import StandardScaler"
   ]
  },
  {
   "cell_type": "code",
   "execution_count": null,
   "id": "534bf0f3",
   "metadata": {
    "execution": {
     "iopub.execute_input": "2023-05-28T15:37:07.835743Z",
     "iopub.status.busy": "2023-05-28T15:37:07.835331Z",
     "iopub.status.idle": "2023-05-28T15:37:07.840521Z",
     "shell.execute_reply": "2023-05-28T15:37:07.839699Z",
     "shell.execute_reply.started": "2023-05-28T15:37:07.835710Z"
    },
    "papermill": {
     "duration": null,
     "end_time": null,
     "exception": null,
     "start_time": null,
     "status": "pending"
    },
    "tags": []
   },
   "outputs": [],
   "source": [
    "scaler = StandardScaler()"
   ]
  },
  {
   "cell_type": "code",
   "execution_count": null,
   "id": "64cef14c",
   "metadata": {
    "execution": {
     "iopub.execute_input": "2023-05-28T15:39:25.822619Z",
     "iopub.status.busy": "2023-05-28T15:39:25.821564Z",
     "iopub.status.idle": "2023-05-28T15:39:25.837090Z",
     "shell.execute_reply": "2023-05-28T15:39:25.835929Z",
     "shell.execute_reply.started": "2023-05-28T15:39:25.822580Z"
    },
    "papermill": {
     "duration": null,
     "end_time": null,
     "exception": null,
     "start_time": null,
     "status": "pending"
    },
    "tags": []
   },
   "outputs": [],
   "source": [
    "x_train_scaled = scaler.fit_transform(x_train)\n",
    "x_test_scaled = scaler.fit_transform(x_test)"
   ]
  },
  {
   "cell_type": "code",
   "execution_count": null,
   "id": "92ebb6b3",
   "metadata": {
    "execution": {
     "iopub.execute_input": "2023-05-28T15:41:51.170106Z",
     "iopub.status.busy": "2023-05-28T15:41:51.169686Z",
     "iopub.status.idle": "2023-05-28T15:41:51.177003Z",
     "shell.execute_reply": "2023-05-28T15:41:51.175710Z",
     "shell.execute_reply.started": "2023-05-28T15:41:51.170076Z"
    },
    "papermill": {
     "duration": null,
     "end_time": null,
     "exception": null,
     "start_time": null,
     "status": "pending"
    },
    "tags": []
   },
   "outputs": [],
   "source": [
    "import tensorflow as tf\n",
    "from tensorflow import keras\n",
    "from tensorflow.keras import Sequential\n",
    "from tensorflow.keras.layers import Dense"
   ]
  },
  {
   "cell_type": "code",
   "execution_count": null,
   "id": "a37c5cb1",
   "metadata": {
    "execution": {
     "iopub.execute_input": "2023-05-28T15:44:52.850843Z",
     "iopub.status.busy": "2023-05-28T15:44:52.850400Z",
     "iopub.status.idle": "2023-05-28T15:44:53.687232Z",
     "shell.execute_reply": "2023-05-28T15:44:53.686076Z",
     "shell.execute_reply.started": "2023-05-28T15:44:52.850806Z"
    },
    "papermill": {
     "duration": null,
     "end_time": null,
     "exception": null,
     "start_time": null,
     "status": "pending"
    },
    "tags": []
   },
   "outputs": [],
   "source": [
    "model = Sequential()\n",
    "\n",
    "model.add(Dense(3,activation='sigmoid',input_dim=11))\n",
    "model.add(Dense(1,activation='sigmoid'))"
   ]
  },
  {
   "cell_type": "code",
   "execution_count": null,
   "id": "1a707994",
   "metadata": {
    "execution": {
     "iopub.execute_input": "2023-05-28T15:44:58.340213Z",
     "iopub.status.busy": "2023-05-28T15:44:58.339753Z",
     "iopub.status.idle": "2023-05-28T15:44:58.358029Z",
     "shell.execute_reply": "2023-05-28T15:44:58.356833Z",
     "shell.execute_reply.started": "2023-05-28T15:44:58.340181Z"
    },
    "papermill": {
     "duration": null,
     "end_time": null,
     "exception": null,
     "start_time": null,
     "status": "pending"
    },
    "tags": []
   },
   "outputs": [],
   "source": [
    "model.summary()"
   ]
  },
  {
   "cell_type": "code",
   "execution_count": null,
   "id": "b746f038",
   "metadata": {
    "execution": {
     "iopub.execute_input": "2023-05-28T15:49:34.983560Z",
     "iopub.status.busy": "2023-05-28T15:49:34.983138Z",
     "iopub.status.idle": "2023-05-28T15:49:35.006376Z",
     "shell.execute_reply": "2023-05-28T15:49:35.005217Z",
     "shell.execute_reply.started": "2023-05-28T15:49:34.983527Z"
    },
    "papermill": {
     "duration": null,
     "end_time": null,
     "exception": null,
     "start_time": null,
     "status": "pending"
    },
    "tags": []
   },
   "outputs": [],
   "source": [
    "model.compile(\n",
    "loss='binary_crossentropy',\n",
    "optimizer='Adam',\n",
    "metrics=['accuracy']\n",
    ")"
   ]
  },
  {
   "cell_type": "code",
   "execution_count": null,
   "id": "c867b04a",
   "metadata": {
    "execution": {
     "iopub.execute_input": "2023-05-28T15:54:04.589247Z",
     "iopub.status.busy": "2023-05-28T15:54:04.588816Z",
     "iopub.status.idle": "2023-05-28T15:54:24.746342Z",
     "shell.execute_reply": "2023-05-28T15:54:24.745161Z",
     "shell.execute_reply.started": "2023-05-28T15:54:04.589214Z"
    },
    "papermill": {
     "duration": null,
     "end_time": null,
     "exception": null,
     "start_time": null,
     "status": "pending"
    },
    "tags": []
   },
   "outputs": [],
   "source": [
    "model.fit(x_train_scaled,y_train,epochs=50,validation_split=0.2)"
   ]
  },
  {
   "cell_type": "code",
   "execution_count": null,
   "id": "3b380317",
   "metadata": {
    "execution": {
     "iopub.execute_input": "2023-05-28T15:56:39.558292Z",
     "iopub.status.busy": "2023-05-28T15:56:39.557926Z",
     "iopub.status.idle": "2023-05-28T15:56:39.567163Z",
     "shell.execute_reply": "2023-05-28T15:56:39.566102Z",
     "shell.execute_reply.started": "2023-05-28T15:56:39.558266Z"
    },
    "papermill": {
     "duration": null,
     "end_time": null,
     "exception": null,
     "start_time": null,
     "status": "pending"
    },
    "tags": []
   },
   "outputs": [],
   "source": [
    "model.layers[1].get_weights()"
   ]
  },
  {
   "cell_type": "code",
   "execution_count": null,
   "id": "2b264a41",
   "metadata": {
    "execution": {
     "iopub.execute_input": "2023-05-28T15:59:08.442867Z",
     "iopub.status.busy": "2023-05-28T15:59:08.442434Z",
     "iopub.status.idle": "2023-05-28T15:59:08.633987Z",
     "shell.execute_reply": "2023-05-28T15:59:08.632818Z",
     "shell.execute_reply.started": "2023-05-28T15:59:08.442830Z"
    },
    "papermill": {
     "duration": null,
     "end_time": null,
     "exception": null,
     "start_time": null,
     "status": "pending"
    },
    "tags": []
   },
   "outputs": [],
   "source": [
    "y_log = model.predict(x_test_scaled)"
   ]
  },
  {
   "cell_type": "code",
   "execution_count": null,
   "id": "b9f552b1",
   "metadata": {
    "execution": {
     "iopub.execute_input": "2023-05-28T15:59:32.803340Z",
     "iopub.status.busy": "2023-05-28T15:59:32.802828Z",
     "iopub.status.idle": "2023-05-28T15:59:32.812040Z",
     "shell.execute_reply": "2023-05-28T15:59:32.810801Z",
     "shell.execute_reply.started": "2023-05-28T15:59:32.803296Z"
    },
    "papermill": {
     "duration": null,
     "end_time": null,
     "exception": null,
     "start_time": null,
     "status": "pending"
    },
    "tags": []
   },
   "outputs": [],
   "source": [
    "y_log.shape"
   ]
  },
  {
   "cell_type": "code",
   "execution_count": null,
   "id": "bbc1ef7c",
   "metadata": {
    "execution": {
     "iopub.execute_input": "2023-05-28T15:59:28.539444Z",
     "iopub.status.busy": "2023-05-28T15:59:28.538959Z",
     "iopub.status.idle": "2023-05-28T15:59:28.547018Z",
     "shell.execute_reply": "2023-05-28T15:59:28.546001Z",
     "shell.execute_reply.started": "2023-05-28T15:59:28.539402Z"
    },
    "papermill": {
     "duration": null,
     "end_time": null,
     "exception": null,
     "start_time": null,
     "status": "pending"
    },
    "tags": []
   },
   "outputs": [],
   "source": [
    "y_test.shape"
   ]
  },
  {
   "cell_type": "code",
   "execution_count": null,
   "id": "57f5de34",
   "metadata": {
    "execution": {
     "iopub.execute_input": "2023-05-28T16:03:25.346365Z",
     "iopub.status.busy": "2023-05-28T16:03:25.345939Z",
     "iopub.status.idle": "2023-05-28T16:03:25.352828Z",
     "shell.execute_reply": "2023-05-28T16:03:25.351743Z",
     "shell.execute_reply.started": "2023-05-28T16:03:25.346334Z"
    },
    "papermill": {
     "duration": null,
     "end_time": null,
     "exception": null,
     "start_time": null,
     "status": "pending"
    },
    "tags": []
   },
   "outputs": [],
   "source": [
    "def tst(data):\n",
    "    results = []\n",
    "    for value in data:\n",
    "        if value>=0.5:\n",
    "            results.append(1)\n",
    "        else:\n",
    "            results.append(0)\n",
    "    return results"
   ]
  },
  {
   "cell_type": "code",
   "execution_count": null,
   "id": "cf5ddcbd",
   "metadata": {
    "execution": {
     "iopub.execute_input": "2023-05-28T16:01:22.815386Z",
     "iopub.status.busy": "2023-05-28T16:01:22.815014Z",
     "iopub.status.idle": "2023-05-28T16:01:22.821224Z",
     "shell.execute_reply": "2023-05-28T16:01:22.819485Z",
     "shell.execute_reply.started": "2023-05-28T16:01:22.815358Z"
    },
    "papermill": {
     "duration": null,
     "end_time": null,
     "exception": null,
     "start_time": null,
     "status": "pending"
    },
    "tags": []
   },
   "outputs": [],
   "source": [
    "u = [0.6,0.2,0.6,0.5,0.1,0.9]"
   ]
  },
  {
   "cell_type": "code",
   "execution_count": null,
   "id": "1c48add2",
   "metadata": {
    "execution": {
     "iopub.execute_input": "2023-05-28T16:03:45.294695Z",
     "iopub.status.busy": "2023-05-28T16:03:45.293571Z",
     "iopub.status.idle": "2023-05-28T16:03:45.308815Z",
     "shell.execute_reply": "2023-05-28T16:03:45.307978Z",
     "shell.execute_reply.started": "2023-05-28T16:03:45.294645Z"
    },
    "papermill": {
     "duration": null,
     "end_time": null,
     "exception": null,
     "start_time": null,
     "status": "pending"
    },
    "tags": []
   },
   "outputs": [],
   "source": [
    "y_pred = tst(y_log)"
   ]
  },
  {
   "cell_type": "code",
   "execution_count": null,
   "id": "2d1e9544",
   "metadata": {
    "execution": {
     "iopub.execute_input": "2023-05-28T16:04:03.382276Z",
     "iopub.status.busy": "2023-05-28T16:04:03.381831Z",
     "iopub.status.idle": "2023-05-28T16:04:03.387740Z",
     "shell.execute_reply": "2023-05-28T16:04:03.386586Z",
     "shell.execute_reply.started": "2023-05-28T16:04:03.382241Z"
    },
    "papermill": {
     "duration": null,
     "end_time": null,
     "exception": null,
     "start_time": null,
     "status": "pending"
    },
    "tags": []
   },
   "outputs": [],
   "source": [
    "from sklearn.metrics import accuracy_score"
   ]
  },
  {
   "cell_type": "code",
   "execution_count": null,
   "id": "ad181ab3",
   "metadata": {
    "execution": {
     "iopub.execute_input": "2023-05-28T16:04:45.318306Z",
     "iopub.status.busy": "2023-05-28T16:04:45.317898Z",
     "iopub.status.idle": "2023-05-28T16:04:45.329343Z",
     "shell.execute_reply": "2023-05-28T16:04:45.328268Z",
     "shell.execute_reply.started": "2023-05-28T16:04:45.318273Z"
    },
    "papermill": {
     "duration": null,
     "end_time": null,
     "exception": null,
     "start_time": null,
     "status": "pending"
    },
    "tags": []
   },
   "outputs": [],
   "source": [
    "accuracy_score(y_test,y_pred)"
   ]
  },
  {
   "cell_type": "code",
   "execution_count": null,
   "id": "580a2b4b",
   "metadata": {
    "papermill": {
     "duration": null,
     "end_time": null,
     "exception": null,
     "start_time": null,
     "status": "pending"
    },
    "tags": []
   },
   "outputs": [],
   "source": []
  }
 ],
 "metadata": {
  "kernelspec": {
   "display_name": "Python 3",
   "language": "python",
   "name": "python3"
  },
  "language_info": {
   "codemirror_mode": {
    "name": "ipython",
    "version": 3
   },
   "file_extension": ".py",
   "mimetype": "text/x-python",
   "name": "python",
   "nbconvert_exporter": "python",
   "pygments_lexer": "ipython3",
   "version": "3.10.10"
  },
  "papermill": {
   "default_parameters": {},
   "duration": 12.218573,
   "end_time": "2023-05-28T16:09:05.941555",
   "environment_variables": {},
   "exception": true,
   "input_path": "__notebook__.ipynb",
   "output_path": "__notebook__.ipynb",
   "parameters": {},
   "start_time": "2023-05-28T16:08:53.722982",
   "version": "2.4.0"
  }
 },
 "nbformat": 4,
 "nbformat_minor": 5
}
